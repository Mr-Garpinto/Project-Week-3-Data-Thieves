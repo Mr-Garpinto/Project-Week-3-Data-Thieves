{
 "cells": [
  {
   "cell_type": "code",
   "execution_count": 82,
   "metadata": {},
   "outputs": [],
   "source": [
    "from selenium.webdriver.common.keys import Keys\n",
    "from selenium.webdriver import Safari\n",
    "from random import uniform\n",
    "import pandas as pd\n",
    "import time\n",
    "import csv"
   ]
  },
  {
   "cell_type": "code",
   "execution_count": 83,
   "metadata": {},
   "outputs": [
    {
     "data": {
      "text/plain": [
       "[<selenium.webdriver.remote.webelement.WebElement (session=\"0A8ED70D-258D-4385-8835-099C2A1C437C\", element=\"node-F44B7F35-53F4-4C0C-9FFE-5B647089451C\")>,\n",
       " <selenium.webdriver.remote.webelement.WebElement (session=\"0A8ED70D-258D-4385-8835-099C2A1C437C\", element=\"node-9908EB2F-5EE6-456E-AEF2-E18F303CB206\")>]"
      ]
     },
     "execution_count": 83,
     "metadata": {},
     "output_type": "execute_result"
    }
   ],
   "source": [
    "url = 'https://www.youtube.com/watch?v=6zr0nfG3Xy4&t=5753s'\n",
    "driver = Safari()\n",
    "time.sleep(1)\n",
    "driver.get(url)\n",
    "time.sleep(3)\n",
    "\n",
    "video_name = driver.find_elements_by_xpath(\"//yt-formatted-string[@class='style-scope ytd-video-primary-info-renderer']\")\n",
    "\n",
    "\n",
    "\n",
    "view_count = driver.find_elements_by_xpath(\"//span[@class='view-count style-scope yt-view-count-renderer']\")\n",
    "\n",
    "likes_count = driver.find_elements_by_xpath(\"//yt-formatted-string[@class='style-scope ytd-toggle-button-renderer style-text']\")\n",
    "\n",
    "dislikes_count = driver.find_elements_by_xpath(\"//yt-formatted-string[@class='style-scope ytd-toggle-button-renderer style-text']\")\n",
    "\n",
    "#stream_data = driver.find_elements_by_xpath(\"//yt-formatted-string[@class='view-count style-scope yt-view-count-renderer']\")\n",
    "time.sleep(60)\n",
    "view_count\n",
    "likes_count\n",
    "dislikes_count\n",
    "video_name\n"
   ]
  },
  {
   "cell_type": "code",
   "execution_count": 84,
   "metadata": {},
   "outputs": [
    {
     "name": "stdout",
     "output_type": "stream",
     "text": [
      "1,647,799 views\n",
      "54K\n",
      "867\n",
      "GPS III Space Vehicle 03 Mission\n",
      "Streamed live on Jun 30, 2020\n"
     ]
    }
   ],
   "source": [
    "#<span class=\"view-count style-scope yt-view-count-renderer\">104,139,623 views</span>\n",
    "\n",
    "#<yt-formatted-string id=\"text\" class=\"style-scope ytd-toggle-button-renderer style-text\" aria-label=\"3,694,678 likes\">3.6M</yt-formatted-string>\n",
    "\n",
    "#<yt-formatted-string id=\"text\" class=\"style-scope ytd-toggle-button-renderer style-text\" aria-label=\"867 dislikes\">867</yt-formatted-string>\n",
    "\n",
    "\"\"\"\n",
    "<yt-formatted-string force-default-style=\"\" class=\"style-scope ytd-video-primary-info-renderer\">GPS III Space Vehicle 03 Mission</yt-formatted-string>\n",
    "\n",
    "<yt-formatted-string class=\"style-scope ytd-video-primary-info-renderer\">Streamed live on Jun 30, 2020</yt-formatted-string>\n",
    "\n",
    "\"\"\"\n",
    "\n",
    "print(view_count[0].text)\n",
    "print(likes_count[0].text)\n",
    "print(dislikes_count[1].text)\n",
    "print(video_name[0].text)\n",
    "print(video_name[1].text)"
   ]
  },
  {
   "cell_type": "code",
   "execution_count": null,
   "metadata": {},
   "outputs": [],
   "source": []
  },
  {
   "cell_type": "code",
   "execution_count": null,
   "metadata": {},
   "outputs": [],
   "source": []
  }
 ],
 "metadata": {
  "kernelspec": {
   "display_name": "Python 3",
   "language": "python",
   "name": "python3"
  },
  "language_info": {
   "codemirror_mode": {
    "name": "ipython",
    "version": 3
   },
   "file_extension": ".py",
   "mimetype": "text/x-python",
   "name": "python",
   "nbconvert_exporter": "python",
   "pygments_lexer": "ipython3",
   "version": "3.7.6"
  }
 },
 "nbformat": 4,
 "nbformat_minor": 4
}
